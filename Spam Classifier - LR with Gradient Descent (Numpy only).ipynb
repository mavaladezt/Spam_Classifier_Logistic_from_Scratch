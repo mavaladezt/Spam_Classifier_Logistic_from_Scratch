{
 "cells": [
  {
   "cell_type": "markdown",
   "metadata": {},
   "source": [
    "### SMS and Email Spam Classifier using Logistic Regression and Gradient Descent (only numpy)\n",
    "#### (Applying Gradient Descent only with numpy)"
   ]
  },
  {
   "cell_type": "markdown",
   "metadata": {},
   "source": [
    "#### Gracient Descent\n",
    "The gradient helps us maximize a function. So, gradient descent (negative gradient) helps us minimize a function when a global minimum exists."
   ]
  },
  {
   "cell_type": "markdown",
   "metadata": {},
   "source": [
    "The data was obtained from:<br>\n",
    "__Dua, D. and Graff, C. (2019). UCI Machine Learning Repository (https://archive.ics.uci.edu/ml/datasets/SMS+Spam+Collection). Irvine, CA: University of California, School of Information and Computer Science.__<br>\n",
    "\n",
    "Abstract: The SMS Spam Collection is a public set of SMS labeled messages that have been collected for mobile phone spam research.<br>\n",
    "\n",
    "Examples:<br>\n",
    "__ham__ What you doing?how are you?<br>\n",
    "__ham__ Ok lar... Joking wif u oni...<br>\n",
    "__ham__ dun say so early hor... U c already then say...<br>\n",
    "__ham__ MY NO. IN LUTON 0125698789 RING ME IF UR AROUND! H*<br>\n",
    "__ham__ Siva is in hostel aha:-.<br>\n",
    "__ham__ Cos i was out shopping wif darren jus now n i called him 2 ask wat present he wan lor. Then he started guessing who i was wif n he finally guessed darren lor.<br>\n",
    "__spam__ FreeMsg: Txt: CALL to No: 86888 & claim your reward of 3 hours talk time to use from your phone now! ubscribe6GBP/ mnth inc 3hrs 16 stop?txtStop<br>\n",
    "__spam__ Sunshine Quiz! Win a super Sony DVD recorder if you canname the capital of Australia? Text MQUIZ to 82277. B<br>\n",
    "__spam__ URGENT! Your Mobile No 07808726822 was awarded a L2,000 Bonus Caller Prize on 02/09/03! This is our 2nd attempt to contact YOU! Call 0871-872-9758 BOX95QU<br>"
   ]
  },
  {
   "cell_type": "code",
   "execution_count": 1,
   "metadata": {},
   "outputs": [],
   "source": [
    "import numpy as np\n",
    "from collections import Counter\n",
    "import matplotlib.pyplot as plt\n",
    "import csv"
   ]
  },
  {
   "cell_type": "markdown",
   "metadata": {},
   "source": [
    "#### Loading Data\n",
    "Loading data first into spam/no spam so I can decide later which features (words/characters/punctuation) to include."
   ]
  },
  {
   "cell_type": "code",
   "execution_count": 2,
   "metadata": {},
   "outputs": [],
   "source": [
    "#Reading file\n",
    "y_spam=list()\n",
    "y_no_spam=list()\n",
    "sms_spam=list()\n",
    "sms_no_spam=list()\n",
    "\n",
    "#will also change ham/spam labels to -1/1 to make the math faster when measuring accuracy\n",
    "with open('SMSSpamCollection', 'r') as file:\n",
    "    reader = csv.reader(file,delimiter='\\t')\n",
    "    for row in reader:\n",
    "        if row[0]=='ham':\n",
    "            y_no_spam.append(-1)\n",
    "            sms_no_spam.append(row[1])\n",
    "        else:\n",
    "            y_spam.append(1)\n",
    "            sms_spam.append(row[1])"
   ]
  },
  {
   "cell_type": "code",
   "execution_count": 3,
   "metadata": {},
   "outputs": [],
   "source": [
    "def standardize_data(text):\n",
    "    # This function will perform some changes to the string received. It will first separate\n",
    "    #   some characters so that the combination of total words can be reduced significantly.\n",
    "    #   Then it will remove the stopwords that are always present in sms/emails that doesn't\n",
    "    #   give relevant information.\n",
    "    #   List of stopwords was taken from: https://gist.github.com/sebleier/554280 but I removed\n",
    "    #   some words ('no', 'nor' and 'not').\n",
    "    # Input: \n",
    "    # text : string with complete sms or email message\n",
    "    # Output:\n",
    "    # modified_text: string separating characters/words in 'separators' list and removing stop words \n",
    "    separators=['-','$','£',':','+','?','!','/','>','<','*','@','http','.com','www','(',')',\"'\",'.']\n",
    "    stopwords=[\"i\", \"me\", \"my\", \"myself\", \"we\", \"our\", \"ours\", \"ourselves\", \"you\", \"your\", \"yours\", \"yourself\", \"yourselves\", \"he\", \"him\", \"his\", \"himself\", \"she\", \"her\", \"hers\", \"herself\", \"it\", \"its\", \"itself\", \"they\", \"them\", \"their\", \"theirs\", \"themselves\", \"what\", \"which\", \"who\", \"whom\", \"this\", \"that\", \"these\", \"those\", \"am\", \"is\", \"are\", \"was\", \"were\", \"be\", \"been\", \"being\", \"have\", \"has\", \"had\", \"having\", \"do\", \"does\", \"did\", \"doing\", \"a\", \"an\", \"the\", \"and\", \"but\", \"if\", \"or\", \"because\", \"as\", \"until\", \"while\", \"of\", \"at\", \"by\", \"for\", \"with\", \"about\", \"against\", \"between\", \"into\", \"through\", \"during\", \"before\", \"after\", \"above\", \"below\", \"to\", \"from\", \"up\", \"down\", \"in\", \"out\", \"on\", \"off\", \"over\", \"under\", \"again\", \"further\", \"then\", \"once\", \"here\", \"there\", \"when\", \"where\", \"why\", \"how\", \"all\", \"any\", \"both\", \"each\", \"few\", \"more\", \"most\", \"other\", \"some\", \"such\", \"only\", \"own\", \"same\", \"so\", \"than\", \"too\", \"very\", \"s\", \"t\", \"can\", \"will\", \"just\", \"don\", \"should\", \"now\"]\n",
    "    text=text.lower()\n",
    "    for separator in separators:\n",
    "        text=text.replace(separator, ' ' + separator + ' ')\n",
    "    text=text.replace(\"   \", \" \")\n",
    "    text=text.replace(\"  \", \" \")\n",
    "    modified_text=str()\n",
    "    for word in text.split():\n",
    "        if word not in stopwords:\n",
    "            modified_text=modified_text + word + ' '\n",
    "    return modified_text.strip()"
   ]
  },
  {
   "cell_type": "markdown",
   "metadata": {},
   "source": [
    "#### Feature Processing and Selection\n",
    "The process I will follow is really 'easy'.\n",
    " 1. Will get the top 5% of the words/characters with more 'hits' in the spam texts/emails.\n",
    " 2. Will do the same with the no-spam texts.\n",
    " 3. Will put both in a set (to remove duplicates) named 'features'.\n",
    "\n",
    "I decided to get only 5% of the top features (total words/characters were around 5k) initially because it had a great balance of enough data and speed.\n",
    "As you will see, I made different runs with more and less features."
   ]
  },
  {
   "cell_type": "code",
   "execution_count": 4,
   "metadata": {},
   "outputs": [],
   "source": [
    "#will generate 2 'big' string. One with all the spam texts concatenated and the other one with all the no-spam ones.\n",
    "#this texts are the ones that are going to help me determine the features.\n",
    "spam_text=standardize_data( \" \".join(sms_spam) )\n",
    "no_spam_text=standardize_data( \" \".join(sms_no_spam) )"
   ]
  },
  {
   "cell_type": "code",
   "execution_count": 5,
   "metadata": {},
   "outputs": [],
   "source": [
    "def feature_decision(spam_text,no_spam_text,top):\n",
    "    # This function receive 2 texts and will select the top features in each.\n",
    "    # Input:\n",
    "    # spam_text : string\n",
    "    # no_spam_text : string\n",
    "    # top: proportion of top words/characters to include. Example: 0.05 will be the top 5% of the features\n",
    "    # Output:\n",
    "    # features: union of the 2 set of words/characters from the spam and no-spam texts\n",
    "\n",
    "    total = Counter()\n",
    "    spam = Counter()\n",
    "    no_spam = Counter()\n",
    "\n",
    "    for word in spam_text.split():\n",
    "        spam[word] += 1\n",
    "        total[word] += 1\n",
    "    for word in no_spam_text.split():\n",
    "        no_spam[word] += 1\n",
    "        total[word] += 1\n",
    "\n",
    "    spam_most_common=dict(spam.most_common()[0:int(len(spam)*top)])\n",
    "    no_spam_most_common=dict(no_spam.most_common()[0:int(len(no_spam)*top)])\n",
    "\n",
    "    top_spam_features=set()\n",
    "    top_no_spam_features=set()\n",
    "\n",
    "    for k,v in spam_most_common.items():\n",
    "        top_spam_features.add(k)\n",
    "\n",
    "    for k,v in no_spam_most_common.items():\n",
    "        top_no_spam_features.add(k)\n",
    "\n",
    "    return (top_spam_features | top_no_spam_features)"
   ]
  },
  {
   "cell_type": "code",
   "execution_count": 6,
   "metadata": {},
   "outputs": [
    {
     "name": "stdout",
     "output_type": "stream",
     "text": [
      "Example of items in the set Features:\n",
      "\n",
      "['time', 'draw', 'saw', 'dont', 'watching', 'well', 'dinner', 'stuff', 'new', 'week', 'help', 'princess']\n",
      "['6', 'start', 'makes', 'chance', 'office', 'still', 'asked', 'line', 'msg', 'always', 'valid', 'til']\n"
     ]
    }
   ],
   "source": [
    "#will run the previous function to select some features\n",
    "features=feature_decision(spam_text,no_spam_text,0.05)\n",
    "print('Example of items in the set Features:\\n')\n",
    "print(list(features)[0:12])\n",
    "print(list(features)[-12:])"
   ]
  },
  {
   "cell_type": "markdown",
   "metadata": {},
   "source": [
    "#### Creates the vectors according to Features"
   ]
  },
  {
   "cell_type": "code",
   "execution_count": 7,
   "metadata": {},
   "outputs": [],
   "source": [
    "def create_vector(text,features):\n",
    "    # Function receives a string and returns the 'vector' with the features count in the text. It will count each\n",
    "    #   feature word in the text\n",
    "    # Input:\n",
    "    # text: string\n",
    "    # features: features set with top words\n",
    "    # Output:\n",
    "    # array: 1 array with n dimensions. Dimensions are equivalent to the size of features set.\n",
    "    \n",
    "    text=standardize_data(text)\n",
    "    dict_features = { i : 0 for i in features }\n",
    "    for i in text.split():\n",
    "        try:\n",
    "            dict_features[i]+=1\n",
    "        except:\n",
    "            continue\n",
    "    return np.array(list(dict_features.values()))"
   ]
  },
  {
   "cell_type": "markdown",
   "metadata": {},
   "source": [
    "__The following process takes a little bit of time. In my computer takes around 15 seconds (Mac 2019).__"
   ]
  },
  {
   "cell_type": "code",
   "execution_count": 8,
   "metadata": {},
   "outputs": [
    {
     "name": "stdout",
     "output_type": "stream",
     "text": [
      "Proportion of data used for training: 0.695\n",
      "\n",
      "x_train size:  (3875, 475) \ty_train size:  (3875,)\n",
      "\n",
      "x_test size:  (1697, 475) \ty_test size:  (1697,)\n"
     ]
    }
   ],
   "source": [
    "def create_X_datasets(y_spam, sms_spam, y_no_spam, sms_no_spam, features):\n",
    "    # Function randomly creates training and testing datasets.\n",
    "    #   1: it creates the vectors. 2: concatenates the y's values.  3: adds a column with random values\n",
    "    #   4: uses the random values to divide the train from the test arrays.\n",
    "    # Input:\n",
    "    # y_spam: list of 1's\n",
    "    # sms_spam: list with sms/emails spam messages\n",
    "    # y_no_spam: list of -1's\n",
    "    # sms_no_spam: list with sms/emails no spam messages\n",
    "    # features: features set (words/characters we will be looking for)\n",
    "    # Output:\n",
    "    # x_train: columns same size as the size of the features. Rows depend, but approximately 70% of total.\n",
    "    # y_train: 1 column. Same amount of rows than x_train. Values -1 or 1.\n",
    "    # x_test: columns same size as the size of the features. Rows depend, but approximately 70% of total.\n",
    "    # y_test: 1 column. Same amount of rows than x_test. Values -1 or 1.\n",
    "    \n",
    "    #1: creates vector matrix\n",
    "    for i in range (len(y_spam)):\n",
    "        feature_vector=create_vector(sms_spam[i],features)\n",
    "        feature_vector=feature_vector.reshape(1,feature_vector.shape[0])\n",
    "        if i == 0:\n",
    "            X_spam=feature_vector\n",
    "        else:\n",
    "            X_spam=np.concatenate([X_spam, feature_vector],axis=0)\n",
    "\n",
    "    for i in range (len(y_no_spam)):\n",
    "        feature_vector=create_vector(sms_no_spam[i],features)\n",
    "        feature_vector=feature_vector.reshape(1,feature_vector.shape[0])\n",
    "        if i == 0:\n",
    "            X_no_spam=feature_vector\n",
    "        else:\n",
    "            X_no_spam=np.concatenate([X_no_spam, feature_vector],axis=0)\n",
    "\n",
    "    X=np.concatenate([X_spam, X_no_spam],axis=0)\n",
    "\n",
    "    #2: concatenates y's\n",
    "    y=np.concatenate([y_spam, y_no_spam],axis=0)\n",
    "    X_and_y=np.concatenate([X,y.reshape(y.shape[0],1)],axis=1)\n",
    "\n",
    "    #3: random numbers column\n",
    "    random_column = np.array(np.random.rand(len(y)))  #create random column so I can divide train/test sets\n",
    "    random_column = random_column.reshape(random_column.shape[0],1)\n",
    "    X_and_y=np.concatenate([X_and_y,random_column],axis=1)\n",
    "    train=X_and_y[X_and_y[:,-1]<=.7]\n",
    "    test=X_and_y[X_and_y[:,-1]>.7]\n",
    "\n",
    "    print(\"Proportion of data used for training:\",round(train.shape[0]/(train.shape[0]+test.shape[0]),3 ))\n",
    "\n",
    "    #Train features and y\n",
    "    train=train[:,0:train.shape[1]-1]          #eliminate the random column, we don't need it anymore\n",
    "    y_train=train[:,-1]                        #get y from dataset (which is now the lat column)\n",
    "    x_train=train[:,0:train.shape[1]-1]        #eliminating the y column, this is now our feature set\n",
    "\n",
    "    test=test[:,0:test.shape[1]-1]\n",
    "    y_test=test[:,-1]\n",
    "    x_test=test[:,0:test.shape[1]-1]\n",
    "            \n",
    "    return x_train, y_train, x_test, y_test\n",
    "\n",
    "x_train, y_train, x_test, y_test=create_X_datasets(y_spam, sms_spam, y_no_spam, sms_no_spam, features)\n",
    "print('\\nx_train size: ',x_train.shape, '\\ty_train size: ',y_train.shape)\n",
    "print('\\nx_test size: ',x_test.shape, '\\ty_test size: ',y_test.shape)"
   ]
  },
  {
   "cell_type": "markdown",
   "metadata": {},
   "source": [
    "#### Gradient Descent Functions and Calculations"
   ]
  },
  {
   "cell_type": "code",
   "execution_count": 9,
   "metadata": {},
   "outputs": [],
   "source": [
    "def sigmoid(z):\n",
    "    # Implements sigmoid function. Base \n",
    "    # Input: \n",
    "    # z : scalar or array of any dimension\n",
    "    # Output:\n",
    "    # sgmd: scalar if received a scalar, array if receives an array (same dimensions)\n",
    "    sgmd = 1 / (1 + np.exp(-z))    \n",
    "    return sgmd\n",
    "\n",
    "def y_pred(X, w, b=0):\n",
    "    # Applies dot product of X and the weight vector. It then adds the bias.\n",
    "    # This information is used to predict the \"probability\" of the vector being label spam (1).\n",
    "    # Input:\n",
    "    # X: matrix (any size)\n",
    "    # w: vector with same dimensions as in X\n",
    "    # b: optional number, if not passed on is treated as 0.\n",
    "    # Output:\n",
    "    # prob: n-dimensional vector\n",
    "    prob=sigmoid(np.dot(X, w)+b)    \n",
    "    return prob\n",
    "\n",
    "def log_loss(X, y, w, b=0):\n",
    "    # Calculates the \"probability\" (likelihood) of having a label of 1\n",
    "    # Input:\n",
    "    # X: matrix\n",
    "    # y: vector with labels (+1 or -1)\n",
    "    # w: 1 row vector with same dimensins as X\n",
    "    # Output:\n",
    "    # a scalar\n",
    "    nll=-np.sum(np.log(sigmoid(y*(np.dot(X, w)+b))))\n",
    "    return nll\n",
    "\n",
    "def gradient(X, y, w, b):\n",
    "    # calculates the gradient\n",
    "    # Input:\n",
    "    # X: nxd matrix\n",
    "    # y: n-dimensional vector with labels (+1 or -1)\n",
    "    # w: d-dimensional vector\n",
    "    # b: a scalar bias term\n",
    "    # Output:\n",
    "    # wgrad: d-dimensional vector with gradient\n",
    "    # bgrad: a scalar with gradient\n",
    "    n, d = X.shape\n",
    "    weight_gradient = np.zeros(d)\n",
    "    bias_gradient = 0.0\n",
    "    bias_gradient = np.sum(-y*sigmoid(  -y*(np.dot(X, w)+b)  ) )\n",
    "    weight_gradient = np.dot((-y*sigmoid(  -y*(np.dot(X, w)+b)  ) ), X)\n",
    "    return weight_gradient, bias_gradient\n",
    "\n",
    "def logistic_regression(X, y, iterations, alpha):\n",
    "    # Run the logistic regression in a fixed amount of iterations. During each iteration it calculates the gradient,\n",
    "    #   applies it to the weight vector and bias number and calculates the loss.\n",
    "    # Input:\n",
    "    # X: matrix\n",
    "    # y: n-dimensional vector with labels (+1 or -1)\n",
    "    # iterations: number of iterations \n",
    "    # alpha: learning rate (very small number will take too long to find global minimum, too big will\n",
    "    #   never find it because it will be \"bouncing back\")\n",
    "    # Output:\n",
    "    # w: final weight vector\n",
    "    # b: bias number\n",
    "    # losses: list with calculated log-likelihood\n",
    "    n, d = X.shape\n",
    "    w = np.zeros(d)\n",
    "    b = 0.0\n",
    "    losses = np.zeros(iterations)\n",
    "    \n",
    "    for step in range(iterations):\n",
    "        wstep,bstep=gradient(X, y, w, b)\n",
    "        w-=alpha*wstep\n",
    "        b-=alpha*bstep\n",
    "        losses[step]=log_loss(X, y, w, b)\n",
    "    return w, b, losses"
   ]
  },
  {
   "cell_type": "markdown",
   "metadata": {},
   "source": [
    "#### Running the Logistic Regression with Gradient Descent\n",
    "Tried different combinations of variables (size of alpha, number of iterations and amount of features).\n",
    "Also tried to have a variable alpha that was decreasing with iterations with no 'better' much success."
   ]
  },
  {
   "cell_type": "code",
   "execution_count": 10,
   "metadata": {},
   "outputs": [],
   "source": [
    "#features=feature_decision(spam_text,no_spam_text,0.05)  #already loaded before, don't need to run it again\n",
    "weight, b, losses = logistic_regression(x_train, y_train, 2000, 0.0008)  #5% top features/iterations 2000/alpha 0.0008"
   ]
  },
  {
   "cell_type": "code",
   "execution_count": 11,
   "metadata": {},
   "outputs": [
    {
     "data": {
      "text/plain": [
       "Text(0, 0.5, 'Loss value')"
      ]
     },
     "execution_count": 11,
     "metadata": {},
     "output_type": "execute_result"
    },
    {
     "data": {
      "image/png": "[encoded data removed]",
      "text/plain": [
       "<Figure size 648x432 with 1 Axes>"
      ]
     },
     "metadata": {
      "needs_background": "light"
     },
     "output_type": "display_data"
    }
   ],
   "source": [
    "plt.figure(figsize=(9, 6))\n",
    "plt.plot(losses)\n",
    "plt.title(\"Loss vs. iteration\", size=12)\n",
    "plt.xlabel(\"Iteration\", size=10)\n",
    "plt.ylabel(\"Loss value\", size=10)"
   ]
  },
  {
   "cell_type": "markdown",
   "metadata": {},
   "source": [
    "#### Measuring and Calibrating Accuracy with Different Inputs"
   ]
  },
  {
   "cell_type": "code",
   "execution_count": 12,
   "metadata": {},
   "outputs": [],
   "source": [
    "def calculate_accuracy(x_test, weight, b):\n",
    "    # Calculates accuracy of predictions\n",
    "    # Input:\n",
    "    # x_test: matrix with features\n",
    "    # weight: vector with final weights\n",
    "    # b: final bias\n",
    "    # Output:\n",
    "    # accuracy: measured from 0 to 1 and multiplied by 100 to get a percentage\n",
    "    scores = y_pred(x_test, weight, b)\n",
    "    pred_labels = (scores > 0.5).astype(int)\n",
    "    pred_labels[pred_labels != 1] = -1\n",
    "    accuracy = np.mean(pred_labels==y_test)\n",
    "    \n",
    "    actual_no_pred_no=0\n",
    "    actual_yes_pred_yes=0\n",
    "    actual_no_pred_yes=0\n",
    "    actual_yes_pred_no=0\n",
    "    \n",
    "    for i in range(scores.shape[0]):\n",
    "        if y_test[i]==pred_labels[i]:\n",
    "            if y_test[i]==-1:\n",
    "                actual_no_pred_no+=1\n",
    "            else:\n",
    "                actual_yes_pred_yes+=1\n",
    "        else:\n",
    "            if y_test[i]==-1:\n",
    "                actual_no_pred_yes+=1\n",
    "            else:\n",
    "                actual_yes_pred_no+=1\n",
    "    print('\\nCONFUSION MATRIX\\n')\n",
    "    print('\\t PREDICTED')\n",
    "    print('ACTUAL\\t NO\\tYES')\n",
    "    print('------------------------------')\n",
    "    print('NO SPAM\\t',actual_no_pred_no,'\\t',actual_no_pred_yes)\n",
    "    print('SPAM\\t',actual_yes_pred_no,'\\t',actual_yes_pred_yes)\n",
    "    print('\\n')\n",
    "    print(\"Error to minimize (Not spam classified as spam):\",round((100*actual_no_pred_yes)/(actual_no_pred_no+actual_yes_pred_yes+actual_no_pred_yes+actual_yes_pred_no),2),'%')\n",
    "\n",
    "    return accuracy"
   ]
  },
  {
   "cell_type": "code",
   "execution_count": 13,
   "metadata": {},
   "outputs": [
    {
     "name": "stdout",
     "output_type": "stream",
     "text": [
      "\n",
      "CONFUSION MATRIX\n",
      "\n",
      "\t PREDICTED\n",
      "ACTUAL\t NO\tYES\n",
      "------------------------------\n",
      "NO SPAM\t 1461 \t 5\n",
      "SPAM\t 20 \t 211\n",
      "\n",
      "\n",
      "Error to minimize (Not spam classified as spam): 0.29 %\n",
      "Features:  475 \t\tAccuracy (%):  98.53\n"
     ]
    }
   ],
   "source": [
    "print('Features: ', len(features), '\\t\\tAccuracy (%): ',round(100*calculate_accuracy(x_test, weight, b),2))"
   ]
  },
  {
   "cell_type": "code",
   "execution_count": 14,
   "metadata": {},
   "outputs": [
    {
     "name": "stdout",
     "output_type": "stream",
     "text": [
      "Proportion of data used for training: 0.696\n",
      "\n",
      "CONFUSION MATRIX\n",
      "\n",
      "\t PREDICTED\n",
      "ACTUAL\t NO\tYES\n",
      "------------------------------\n",
      "NO SPAM\t 1439 \t 8\n",
      "SPAM\t 17 \t 228\n",
      "\n",
      "\n",
      "Error to minimize (Not spam classified as spam): 0.47 %\n",
      "Features:  184 \t\tAccuracy (%):  98.52\n"
     ]
    }
   ],
   "source": [
    "#Run with less features (top 2%), 2000 iterations and alpha of 0.0008\n",
    "features=feature_decision(spam_text,no_spam_text,0.02)\n",
    "x_train, y_train, x_test, y_test=create_X_datasets(y_spam, sms_spam, y_no_spam, sms_no_spam, features)\n",
    "weight, b, losses = logistic_regression(x_train, y_train, 2000, 0.0008)\n",
    "print('Features: ', len(features), '\\t\\tAccuracy (%): ',round(100*calculate_accuracy(x_test, weight, b),2))"
   ]
  },
  {
   "cell_type": "code",
   "execution_count": 15,
   "metadata": {},
   "outputs": [
    {
     "name": "stdout",
     "output_type": "stream",
     "text": [
      "Proportion of data used for training: 0.704\n",
      "\n",
      "CONFUSION MATRIX\n",
      "\n",
      "\t PREDICTED\n",
      "ACTUAL\t NO\tYES\n",
      "------------------------------\n",
      "NO SPAM\t 1413 \t 13\n",
      "SPAM\t 28 \t 195\n",
      "\n",
      "\n",
      "Error to minimize (Not spam classified as spam): 0.79 %\n",
      "Features:  91 \t\tAccuracy (%):  97.51\n"
     ]
    }
   ],
   "source": [
    "#Run with less features (top 1%), 2000 iterations and alpha of 0.0008\n",
    "features=feature_decision(spam_text,no_spam_text,0.01)\n",
    "x_train, y_train, x_test, y_test=create_X_datasets(y_spam, sms_spam, y_no_spam, sms_no_spam, features)\n",
    "weight, b, losses = logistic_regression(x_train, y_train, 2000, 0.0008)\n",
    "print('Features: ', len(features), '\\t\\tAccuracy (%): ',round(100*calculate_accuracy(x_test, weight, b),2))"
   ]
  },
  {
   "cell_type": "code",
   "execution_count": 16,
   "metadata": {},
   "outputs": [
    {
     "name": "stdout",
     "output_type": "stream",
     "text": [
      "Proportion of data used for training: 0.7\n",
      "\n",
      "CONFUSION MATRIX\n",
      "\n",
      "\t PREDICTED\n",
      "ACTUAL\t NO\tYES\n",
      "------------------------------\n",
      "NO SPAM\t 1459 \t 4\n",
      "SPAM\t 22 \t 186\n",
      "\n",
      "\n",
      "Error to minimize (Not spam classified as spam): 0.24 %\n",
      "Features:  928 \t\tAccuracy (%):  98.44\n"
     ]
    }
   ],
   "source": [
    "#Run with around twice as many features as the first run (top 10%), 2000 iterations and alpha of 0.0008\n",
    "features=feature_decision(spam_text,no_spam_text,0.1)\n",
    "x_train, y_train, x_test, y_test=create_X_datasets(y_spam, sms_spam, y_no_spam, sms_no_spam, features)\n",
    "weight, b, losses = logistic_regression(x_train, y_train, 2000, 0.0008)\n",
    "print('Features: ', len(features), '\\t\\tAccuracy (%): ',round(100*calculate_accuracy(x_test, weight, b),2))"
   ]
  },
  {
   "cell_type": "markdown",
   "metadata": {},
   "source": [
    "#### Conclusion\n",
    "The key for a classifier (any, not only binary) is selecting the right features that will allow efficient and accurate results.\n",
    "In this case, adding more features improves the result of the error we prefer not to have (being not spam and classifying it as spam) from 0.29% to 0.24% but the amount of time it takes by doubling the features increases exponentially.\n",
    "If this is a process that is going to be running several times a week with thousands or millions of emails or texts it is better to keep features down to improve running time."
   ]
  }
 ],
 "metadata": {
  "kernelspec": {
   "display_name": "Python 3",
   "language": "python",
   "name": "python3"
  },
  "language_info": {
   "codemirror_mode": {
    "name": "ipython",
    "version": 3
   },
   "file_extension": ".py",
   "mimetype": "text/x-python",
   "name": "python",
   "nbconvert_exporter": "python",
   "pygments_lexer": "ipython3",
   "version": "3.7.3"
  }
 },
 "nbformat": 4,
 "nbformat_minor": 2
}
